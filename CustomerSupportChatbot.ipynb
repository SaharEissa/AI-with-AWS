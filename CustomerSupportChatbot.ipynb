{
 "cells": [
  {
   "cell_type": "code",
   "execution_count": 1,
   "id": "2de18c3f-ea9a-47aa-a930-49cbbffb4d22",
   "metadata": {},
   "outputs": [],
   "source": [
    "#Simple Customer Support Chatbot\n",
    "responses = {\n",
    "    \"hi\": \"Hello! Welcome to TechGadget Support. How can I assist you today?\",\n",
    "    \"do you have smartwatches\": \"Yes, we have a variety of smartwatches. You can check them out on our product page\",\n",
    "    \"shipping time\": \"Shipping usually takes 3-5 business days.\",\n",
    "    \"shipping methods\": \"We offer standard, expedited, and overnight shipping.\",\n",
    "    \"return policy\": \"You can return products within 30 days of receipt for a full refund.\",\n",
    "    \"how to return\": \"To return a product, please visit our returns page for a step-by-step guide.\",\n",
    "    \"won't turn on\": \"Make sure your gadget is charged. If it still won't turn on, you can visit our troubleshooting page.\",\n",
    "    \"reset device\": \"To reset your device, hold down the power button for 10 seconds. If that doesn't work, please contact our support team.\",\n",
    "    \"contact support team\": \"You can contact our support team via email: support@techgadget.com\",\n",
    "    \"bye\": \"Thank you for visiting TechGadget. If you have more questions, feel free to ask. Goodbye!\"\n",
    "    \n",
    "}"
   ]
  },
  {
   "cell_type": "code",
   "execution_count": 3,
   "id": "9541f1ff-e08b-4e52-aee8-a7ed2ecec786",
   "metadata": {},
   "outputs": [],
   "source": [
    "#Define a function to get bot response\n",
    "def get_bot_response(user_input):\n",
    "    user_input = user_input.lower()\n",
    "    for keyword, response in responses.items():\n",
    "        if keyword in user_input:\n",
    "            return response\n",
    "    return \"I'm not sure how to respond to that. Can you try asking something else?\""
   ]
  },
  {
   "cell_type": "code",
   "execution_count": 5,
   "id": "8cfe0ff4-07ff-4f19-9607-3e557be10599",
   "metadata": {},
   "outputs": [
    {
     "name": "stdin",
     "output_type": "stream",
     "text": [
      "You: hi\n"
     ]
    },
    {
     "name": "stdout",
     "output_type": "stream",
     "text": [
      "Bot: Hello! Welcome to TechGadget Support. How can I assist you today?\n"
     ]
    },
    {
     "name": "stdin",
     "output_type": "stream",
     "text": [
      "You: how to return\n"
     ]
    },
    {
     "name": "stdout",
     "output_type": "stream",
     "text": [
      "Bot: To return a product, please visit our returns page for a step-by-step guide.\n"
     ]
    },
    {
     "name": "stdin",
     "output_type": "stream",
     "text": [
      "You: bye\n"
     ]
    },
    {
     "name": "stdout",
     "output_type": "stream",
     "text": [
      "Bot: Goodbye! If you have any more questions, we're here to help\n"
     ]
    }
   ],
   "source": [
    "#Main Chat loop\n",
    "while True:\n",
    "    user_input = input(\"You:\")\n",
    "    if user_input.lower() in [\"quit\", \"exit\", \"bye\"]:\n",
    "               print(\"Bot: Goodbye! If you have any more questions, we're here to help\")\n",
    "               break\n",
    "    response = get_bot_response(user_input)\n",
    "    print(f\"Bot: {response}\")\n",
    "    "
   ]
  },
  {
   "cell_type": "code",
   "execution_count": null,
   "id": "96157081-c533-4753-b293-18e666a4ce47",
   "metadata": {},
   "outputs": [],
   "source": []
  }
 ],
 "metadata": {
  "kernelspec": {
   "display_name": "conda_pytorch_p310",
   "language": "python",
   "name": "conda_pytorch_p310"
  },
  "language_info": {
   "codemirror_mode": {
    "name": "ipython",
    "version": 3
   },
   "file_extension": ".py",
   "mimetype": "text/x-python",
   "name": "python",
   "nbconvert_exporter": "python",
   "pygments_lexer": "ipython3",
   "version": "3.10.14"
  }
 },
 "nbformat": 4,
 "nbformat_minor": 5
}
